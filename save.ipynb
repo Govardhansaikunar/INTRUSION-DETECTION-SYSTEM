{
 "cells": [
  {
   "cell_type": "code",
   "execution_count": null,
   "metadata": {},
   "outputs": [],
   "source": [
    "def check_login(username, password, json_file_path=\"data.json\"):\n",
    "    try:\n",
    "        with open(json_file_path, \"r\") as json_file:\n",
    "            data = json.load(json_file)\n",
    "\n",
    "        for user in data[\"users\"]:\n",
    "            if user[\"email\"] == username and user[\"password\"] == password:\n",
    "                session_state[\"logged_in\"] = True\n",
    "                session_state[\"user_info\"] = user\n",
    "                st.success(\"Login successful!\")\n",
    "                render_dashboard(user)\n",
    "                return user\n",
    "\n",
    "        st.error(\"Invalid credentials. Please try again.\")\n",
    "        return None\n",
    "    except Exception as e:\n",
    "        st.error(f\"Error checking login: {e}\")\n",
    "        return None"
   ]
  }
 ],
 "metadata": {
  "language_info": {
   "name": "python"
  }
 },
 "nbformat": 4,
 "nbformat_minor": 2
}
